import torch
from torchvision import datasets
from torch.utils.data import Dataset, DataLoader
from torchvision.transforms import v2

import matplotlib.pyplot as plt


def unpickle(file):
    import pickle
    with open(file, 'rb') as fo:
        dict = pickle.load(fo, encoding='bytes')
    return dict


processing = v2.Compose([
    v2.ToImage(),
    v2.ToDtype(torch.float32, scale=True),
])

data_path = './data'
cifar10_train = datasets.CIFAR10(data_path, train=True, download=True)  # Downloading both datasets from the torchvision module 
cifar10_val = datasets.CIFAR10(data_path, train=False, download=True) 
cifar10_train, cifar10_val


# Creation of the list containing all class names 

data_path = './data/cifar-10-batches-py/'
file = 'batches.meta' 
dict_names = unpickle(data_path + file)
class_names = [names.decode('utf-8') for names in dict_names[b'label_names']] 
class_names


# Testing the first datapoints from both datasets

img, label = cifar10_train[0]
plt.imshow(img)
plt.show()
print(class_names[label])

img, label = cifar10_val[0]
plt.imshow(img)
plt.show()
print(class_names[label])





# Converts PIL images to tensors (we'll aplly the normalization in the next step)

processing_t = v2.Compose([
    v2.ToImage(),
    v2.ToDtype(torch.float32, scale=True),
])

cifar10_t_train = datasets.CIFAR10(data_path, train=True, transform=processing_t, download=True)
cifar10_t_val = datasets.CIFAR10(data_path, train=False, transform=processing_t, download=True)


# Testing the first datapoints from both datasets

img_t, label = cifar10_t_train[0]
print(img_t)

img_t, label = cifar10_t_val[0]
print(img_t)

img_t.shape





t = torch.stack([img_t for img_t, _ in cifar10_t_train], dim=3) # Stack all datapoints of the dataset along a new dimension to calculate the mean and std
t.shape


t = t.view(3, -1)  # Reshape to (C, N*H*W), where C is the number of channels and N*H*W represents all pixel values for each channel
t.shape


mean = t.mean(dim=1)
std = t.std(dim=1)
mean, std


# Convert images to tensors and normalize their values using the computed mean and std 

final_processing = v2.Compose([
    v2.ToImage(),
    v2.ToDtype(torch.float32, scale=True),
    v2.Normalize(mean=mean, std=std),
])

cifar10 = datasets.CIFAR10(data_path, train=True, transform=final_processing, download=True)
cifar10_val = datasets.CIFAR10(data_path, train=False, transform=final_processing, download=True)

img_t, label = cifar10[0]
print(img_t)


train_dataloader = DataLoader(cifar10_train, batch_size=64, shuffle=True)
test_dataloader = DataLoader(cifar10_val, batch_size=64, shuffle=True)


t = torch.stack([img_t for img_t, _ in cifar10_train], dim=3)
t.view(3, -1).shape


t = t.view(3, -1)
t.mean(dim=1), t.std(dim=1)


img, label = cifar10_train[0]
img.shape
